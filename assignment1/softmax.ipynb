{
 "cells": [
  {
   "cell_type": "markdown",
   "metadata": {
    "id": "2HxjTZrm_G_g"
   },
   "source": [
    "# Softmax exercise\n",
    "\n",
    "*Complete and hand in this completed worksheet (including its outputs and any supporting code outside of the worksheet) with your assignment submission. For more details see the [assignments page](https://compsci682-fa19.github.io/assignments2019/assignment1/) on the course website.*\n",
    "\n",
    "This exercise is analogous to the SVM exercise. You will:\n",
    "\n",
    "- implement a fully-vectorized **loss function** for the Softmax classifier\n",
    "- implement the fully-vectorized expression for its **analytic gradient**\n",
    "- **check your implementation** with numerical gradient\n",
    "- use a validation set to **tune the learning rate and regularization** strength\n",
    "- **optimize** the loss function with **SGD**\n",
    "- **visualize** the final learned weights\n"
   ]
  },
  {
   "cell_type": "code",
   "execution_count": null,
   "metadata": {
    "colab": {
     "base_uri": "https://localhost:8080/"
    },
    "executionInfo": {
     "elapsed": 39092,
     "status": "ok",
     "timestamp": 1695940642130,
     "user": {
      "displayName": "Satya Shodhaka Rekha Prabhanjan",
      "userId": "06460381023426787220"
     },
     "user_tz": 240
    },
    "id": "MNbzMz7n_LwR",
    "outputId": "de7f53d3-2ef8-4ba6-d8d9-86c72dd9f138"
   },
   "outputs": [
    {
     "name": "stdout",
     "output_type": "stream",
     "text": [
      "Mounted at /content/drive\n",
      "/content/drive/MyDrive/cs682/assignment1\n"
     ]
    }
   ],
   "source": [
    "## IF YOU ARE USING COLAB, UNCOMMENT AND RUN THIS BLOCK FIRST ###\n",
    "\n",
    "# Mount google drive to allow access to your files\n",
    "from google.colab import drive\n",
    "drive.mount('/content/drive')\n",
    "drive_folder = '/content/drive/MyDrive'\n",
    "# Ajust this line to be the assignment1 folder in your google drive\n",
    "notebook_folder = drive_folder + '/cs682/assignment1'\n",
    "%cd {notebook_folder}"
   ]
  },
  {
   "cell_type": "code",
   "execution_count": null,
   "metadata": {
    "id": "a-uQ4GDE_G_j"
   },
   "outputs": [],
   "source": [
    "from __future__ import print_function\n",
    "import random\n",
    "import numpy as np\n",
    "from cs682.data_utils import load_CIFAR10\n",
    "import matplotlib.pyplot as plt\n",
    "\n",
    "\n",
    "%matplotlib inline\n",
    "plt.rcParams['figure.figsize'] = (10.0, 8.0) # set default size of plots\n",
    "plt.rcParams['image.interpolation'] = 'nearest'\n",
    "plt.rcParams['image.cmap'] = 'gray'\n",
    "\n",
    "# for auto-reloading extenrnal modules\n",
    "# see http://stackoverflow.com/questions/1907993/autoreload-of-modules-in-ipython\n",
    "%load_ext autoreload\n",
    "%autoreload 2"
   ]
  },
  {
   "cell_type": "code",
   "execution_count": null,
   "metadata": {
    "colab": {
     "base_uri": "https://localhost:8080/"
    },
    "executionInfo": {
     "elapsed": 3730,
     "status": "ok",
     "timestamp": 1695940647315,
     "user": {
      "displayName": "Satya Shodhaka Rekha Prabhanjan",
      "userId": "06460381023426787220"
     },
     "user_tz": 240
    },
    "id": "CWjG--4G_G_k",
    "outputId": "5d3782b0-5376-4cdb-c5db-e84d7abf5212"
   },
   "outputs": [
    {
     "name": "stdout",
     "output_type": "stream",
     "text": [
      "Train data shape:  (49000, 3073)\n",
      "Train labels shape:  (49000,)\n",
      "Validation data shape:  (1000, 3073)\n",
      "Validation labels shape:  (1000,)\n",
      "Test data shape:  (1000, 3073)\n",
      "Test labels shape:  (1000,)\n",
      "dev data shape:  (500, 3073)\n",
      "dev labels shape:  (500,)\n"
     ]
    }
   ],
   "source": [
    "def get_CIFAR10_data(num_training=49000, num_validation=1000, num_test=1000, num_dev=500):\n",
    "    \"\"\"\n",
    "    Load the CIFAR-10 dataset from disk and perform preprocessing to prepare\n",
    "    it for the linear classifier. These are the same steps as we used for the\n",
    "    SVM, but condensed to a single function.\n",
    "    \"\"\"\n",
    "    # Load the raw CIFAR-10 data\n",
    "    cifar10_dir = 'cs682/datasets/cifar-10-batches-py'\n",
    "    # Don't forget to run get_datasets.sh, or this will throw an error\n",
    "    X_train, y_train, X_test, y_test = load_CIFAR10(cifar10_dir)\n",
    "\n",
    "    # subsample the data\n",
    "    mask = list(range(num_training, num_training + num_validation))\n",
    "    X_val = X_train[mask]\n",
    "    y_val = y_train[mask]\n",
    "    mask = list(range(num_training))\n",
    "    X_train = X_train[mask]\n",
    "    y_train = y_train[mask]\n",
    "    mask = list(range(num_test))\n",
    "    X_test = X_test[mask]\n",
    "    y_test = y_test[mask]\n",
    "    mask = np.random.choice(num_training, num_dev, replace=False)\n",
    "    X_dev = X_train[mask]\n",
    "    y_dev = y_train[mask]\n",
    "\n",
    "    # Preprocessing: reshape the image data into rows\n",
    "    X_train = np.reshape(X_train, (X_train.shape[0], -1))\n",
    "    X_val = np.reshape(X_val, (X_val.shape[0], -1))\n",
    "    X_test = np.reshape(X_test, (X_test.shape[0], -1))\n",
    "    X_dev = np.reshape(X_dev, (X_dev.shape[0], -1))\n",
    "\n",
    "    # Normalize the data: subtract the mean image\n",
    "    mean_image = np.mean(X_train, axis = 0)\n",
    "    X_train -= mean_image\n",
    "    X_val -= mean_image\n",
    "    X_test -= mean_image\n",
    "    X_dev -= mean_image\n",
    "\n",
    "    # add bias dimension and transform into columns\n",
    "    X_train = np.hstack([X_train, np.ones((X_train.shape[0], 1))])\n",
    "    X_val = np.hstack([X_val, np.ones((X_val.shape[0], 1))])\n",
    "    X_test = np.hstack([X_test, np.ones((X_test.shape[0], 1))])\n",
    "    X_dev = np.hstack([X_dev, np.ones((X_dev.shape[0], 1))])\n",
    "\n",
    "    return X_train, y_train, X_val, y_val, X_test, y_test, X_dev, y_dev\n",
    "\n",
    "\n",
    "# Cleaning up variables to prevent loading data multiple times (which may cause memory issue)\n",
    "try:\n",
    "   del X_train, y_train\n",
    "   del X_test, y_test\n",
    "   print('Clear previously loaded data.')\n",
    "except:\n",
    "   pass\n",
    "\n",
    "# Invoke the above function to get our data.\n",
    "X_train, y_train, X_val, y_val, X_test, y_test, X_dev, y_dev = get_CIFAR10_data()\n",
    "print('Train data shape: ', X_train.shape)\n",
    "print('Train labels shape: ', y_train.shape)\n",
    "print('Validation data shape: ', X_val.shape)\n",
    "print('Validation labels shape: ', y_val.shape)\n",
    "print('Test data shape: ', X_test.shape)\n",
    "print('Test labels shape: ', y_test.shape)\n",
    "print('dev data shape: ', X_dev.shape)\n",
    "print('dev labels shape: ', y_dev.shape)"
   ]
  },
  {
   "cell_type": "markdown",
   "metadata": {
    "id": "h9LGPLOA_G_m"
   },
   "source": [
    "## Softmax Classifier\n",
    "\n",
    "Your code for this section will all be written inside **cs682/classifiers/softmax.py**.\n"
   ]
  },
  {
   "cell_type": "code",
   "execution_count": null,
   "metadata": {
    "colab": {
     "base_uri": "https://localhost:8080/"
    },
    "executionInfo": {
     "elapsed": 2925,
     "status": "ok",
     "timestamp": 1695940650236,
     "user": {
      "displayName": "Satya Shodhaka Rekha Prabhanjan",
      "userId": "06460381023426787220"
     },
     "user_tz": 240
    },
    "id": "8gCn9xQ7_G_n",
    "outputId": "d48bc8a1-5323-470b-f2a4-0d6178fd194d"
   },
   "outputs": [
    {
     "name": "stdout",
     "output_type": "stream",
     "text": [
      "loss: 2.383517\n",
      "sanity check: 2.302585\n"
     ]
    }
   ],
   "source": [
    "# First implement the naive softmax loss function with nested loops.\n",
    "# Open the file cs682/classifiers/softmax.py and implement the\n",
    "# softmax_loss_naive function.\n",
    "\n",
    "from cs682.classifiers.softmax import softmax_loss_naive\n",
    "import time\n",
    "\n",
    "# Generate a random softmax weight matrix and use it to compute the loss.\n",
    "W = np.random.randn(3073, 10) * 0.0001\n",
    "loss, grad = softmax_loss_naive(W, X_dev, y_dev, 0.0)\n",
    "\n",
    "# As a rough sanity check, our loss should be something close to -log(0.1).\n",
    "print('loss: %f' % loss)\n",
    "print('sanity check: %f' % (-np.log(0.1)))"
   ]
  },
  {
   "cell_type": "markdown",
   "metadata": {
    "id": "cFhbSfkM_G_o"
   },
   "source": [
    "## Inline Question 1:\n",
    "Why do we expect our loss to be close to -log(0.1)? Explain briefly.**\n",
    "\n",
    "**Your answer:** Here 0.1 in -log(0.1) represent the probability of guessing the correct class out the 10 classes. And -ve log(0.1) calculates the cross entropy loss to pick the correct class\n"
   ]
  },
  {
   "cell_type": "code",
   "execution_count": null,
   "metadata": {
    "colab": {
     "base_uri": "https://localhost:8080/"
    },
    "executionInfo": {
     "elapsed": 1559,
     "status": "ok",
     "timestamp": 1695940651792,
     "user": {
      "displayName": "Satya Shodhaka Rekha Prabhanjan",
      "userId": "06460381023426787220"
     },
     "user_tz": 240
    },
    "id": "-4d2qVe2_G_o",
    "outputId": "056f9dc9-aac3-470f-d2be-f2a28710fef3"
   },
   "outputs": [
    {
     "name": "stdout",
     "output_type": "stream",
     "text": [
      "numerical: 0.118635 analytic: 0.118635, relative error: 1.330539e-07\n",
      "numerical: 2.664043 analytic: 2.664043, relative error: 1.675751e-08\n",
      "numerical: 1.840398 analytic: 1.840398, relative error: 3.338875e-08\n",
      "numerical: 0.274587 analytic: 0.274587, relative error: 1.171667e-07\n",
      "numerical: -2.263650 analytic: -2.263650, relative error: 6.185154e-09\n",
      "numerical: 3.716380 analytic: 3.716379, relative error: 1.994360e-08\n",
      "numerical: 3.840743 analytic: 3.840743, relative error: 9.592035e-09\n",
      "numerical: -0.133422 analytic: -0.133422, relative error: 1.720773e-07\n",
      "numerical: 1.363461 analytic: 1.363461, relative error: 3.082103e-08\n",
      "numerical: 0.797811 analytic: 0.797811, relative error: 9.310767e-08\n",
      "numerical: -0.092366 analytic: -0.092366, relative error: 6.463017e-08\n",
      "numerical: 2.119822 analytic: 2.119822, relative error: 3.690885e-08\n",
      "numerical: -1.753893 analytic: -1.753893, relative error: 5.508795e-09\n",
      "numerical: -2.438646 analytic: -2.438646, relative error: 5.520543e-09\n",
      "numerical: 0.336981 analytic: 0.336981, relative error: 1.372624e-08\n",
      "numerical: 1.141933 analytic: 1.141933, relative error: 7.233238e-08\n",
      "numerical: -1.128451 analytic: -1.128451, relative error: 6.956534e-09\n",
      "numerical: -2.047772 analytic: -2.047772, relative error: 1.331095e-08\n",
      "numerical: 0.846308 analytic: 0.846308, relative error: 2.350928e-08\n",
      "numerical: 2.739418 analytic: 2.739418, relative error: 1.046277e-08\n"
     ]
    }
   ],
   "source": [
    "# Complete the implementation of softmax_loss_naive and implement a (naive)\n",
    "# version of the gradient that uses nested loops.\n",
    "loss, grad = softmax_loss_naive(W, X_dev, y_dev, 0.0)\n",
    "\n",
    "# As we did for the SVM, use numeric gradient checking as a debugging tool.\n",
    "# The numeric gradient should be close to the analytic gradient.\n",
    "from cs682.gradient_check import grad_check_sparse\n",
    "f = lambda w: softmax_loss_naive(w, X_dev, y_dev, 0.0)[0]\n",
    "grad_numerical = grad_check_sparse(f, W, grad, 10)\n",
    "\n",
    "# similar to SVM case, do another gradient check with regularization\n",
    "loss, grad = softmax_loss_naive(W, X_dev, y_dev, 5e1)\n",
    "f = lambda w: softmax_loss_naive(w, X_dev, y_dev, 5e1)[0]\n",
    "grad_numerical = grad_check_sparse(f, W, grad, 10)\n",
    "\n"
   ]
  },
  {
   "cell_type": "code",
   "execution_count": null,
   "metadata": {
    "colab": {
     "base_uri": "https://localhost:8080/"
    },
    "executionInfo": {
     "elapsed": 4,
     "status": "ok",
     "timestamp": 1695940651792,
     "user": {
      "displayName": "Satya Shodhaka Rekha Prabhanjan",
      "userId": "06460381023426787220"
     },
     "user_tz": 240
    },
    "id": "G8otglbn_G_o",
    "outputId": "ba41d8b5-8046-4142-a29d-e40042864a59"
   },
   "outputs": [
    {
     "name": "stdout",
     "output_type": "stream",
     "text": [
      "naive loss: 2.383517e+00 computed in 0.042184s\n",
      "vectorized loss: 2.383517e+00 computed in 0.007147s\n",
      "Loss difference: 0.000000\n",
      "Gradient difference: 0.000000\n"
     ]
    }
   ],
   "source": [
    "# Now that we have a naive implementation of the softmax loss function and its gradient,\n",
    "# implement a vectorized version in softmax_loss_vectorized.\n",
    "# The two versions should compute the same results, but the vectorized version should be\n",
    "# much faster.\n",
    "tic = time.time()\n",
    "loss_naive, grad_naive = softmax_loss_naive(W, X_dev, y_dev, 0.000005)\n",
    "toc = time.time()\n",
    "print('naive loss: %e computed in %fs' % (loss_naive, toc - tic))\n",
    "\n",
    "from cs682.classifiers.softmax import softmax_loss_vectorized\n",
    "tic = time.time()\n",
    "loss_vectorized, grad_vectorized = softmax_loss_vectorized(W, X_dev, y_dev, 0.000005)\n",
    "toc = time.time()\n",
    "print('vectorized loss: %e computed in %fs' % (loss_vectorized, toc - tic))\n",
    "\n",
    "# As we did for the SVM, we use the Frobenius norm to compare the two versions\n",
    "# of the gradient.\n",
    "grad_difference = np.linalg.norm(grad_naive - grad_vectorized, ord='fro')\n",
    "print('Loss difference: %f' % np.abs(loss_naive - loss_vectorized))\n",
    "print('Gradient difference: %f' % grad_difference)"
   ]
  },
  {
   "cell_type": "code",
   "execution_count": null,
   "metadata": {
    "colab": {
     "base_uri": "https://localhost:8080/"
    },
    "executionInfo": {
     "elapsed": 86108,
     "status": "ok",
     "timestamp": 1695940737898,
     "user": {
      "displayName": "Satya Shodhaka Rekha Prabhanjan",
      "userId": "06460381023426787220"
     },
     "user_tz": 240
    },
    "id": "ENUZKVXp_G_p",
    "outputId": "6f163424-dbb6-40f1-fd3a-557ddda1329a"
   },
   "outputs": [
    {
     "name": "stdout",
     "output_type": "stream",
     "text": [
      "Training with Learning_rate: 9.5e-08 and Regularization Strength: 10000.0\n",
      "iteration 0 / 1500: loss 310.474193\n",
      "iteration 100 / 1500: loss 211.298015\n",
      "iteration 200 / 1500: loss 144.439274\n",
      "iteration 300 / 1500: loss 99.176573\n",
      "iteration 400 / 1500: loss 68.353743\n",
      "iteration 500 / 1500: loss 47.234272\n",
      "iteration 600 / 1500: loss 32.803310\n",
      "iteration 700 / 1500: loss 23.021255\n",
      "iteration 800 / 1500: loss 16.393446\n",
      "iteration 900 / 1500: loss 11.764953\n",
      "iteration 1000 / 1500: loss 8.662317\n",
      "iteration 1100 / 1500: loss 6.541030\n",
      "iteration 1200 / 1500: loss 5.138929\n",
      "iteration 1300 / 1500: loss 4.104994\n",
      "iteration 1400 / 1500: loss 3.505636\n",
      "training accuracy: 0.351041\n",
      "validation accuracy: 0.362000\n",
      "Training with Learning_rate: 9.5e-08 and Regularization Strength: 25000.0\n",
      "iteration 0 / 1500: loss 769.637231\n",
      "iteration 100 / 1500: loss 296.574489\n",
      "iteration 200 / 1500: loss 115.490598\n",
      "iteration 300 / 1500: loss 45.701704\n",
      "iteration 400 / 1500: loss 18.882390\n",
      "iteration 500 / 1500: loss 8.611236\n",
      "iteration 600 / 1500: loss 4.626599\n",
      "iteration 700 / 1500: loss 3.055070\n",
      "iteration 800 / 1500: loss 2.407148\n",
      "iteration 900 / 1500: loss 2.286648\n",
      "iteration 1000 / 1500: loss 2.186498\n",
      "iteration 1100 / 1500: loss 2.157766\n",
      "iteration 1200 / 1500: loss 2.053476\n",
      "iteration 1300 / 1500: loss 2.049810\n",
      "iteration 1400 / 1500: loss 2.085168\n",
      "training accuracy: 0.326020\n",
      "validation accuracy: 0.341000\n",
      "Training with Learning_rate: 9.5e-08 and Regularization Strength: 50000.0\n",
      "iteration 0 / 1500: loss 1538.298094\n",
      "iteration 100 / 1500: loss 228.934995\n",
      "iteration 200 / 1500: loss 35.639778\n",
      "iteration 300 / 1500: loss 7.089602\n",
      "iteration 400 / 1500: loss 2.882176\n",
      "iteration 500 / 1500: loss 2.235916\n",
      "iteration 600 / 1500: loss 2.192385\n",
      "iteration 700 / 1500: loss 2.115503\n",
      "iteration 800 / 1500: loss 2.178341\n",
      "iteration 900 / 1500: loss 2.090141\n",
      "iteration 1000 / 1500: loss 2.111593\n",
      "iteration 1100 / 1500: loss 2.164531\n",
      "iteration 1200 / 1500: loss 2.184924\n",
      "iteration 1300 / 1500: loss 2.187545\n",
      "iteration 1400 / 1500: loss 2.166364\n",
      "training accuracy: 0.305449\n",
      "validation accuracy: 0.330000\n",
      "Training with Learning_rate: 1e-07 and Regularization Strength: 10000.0\n",
      "iteration 0 / 1500: loss 313.938444\n",
      "iteration 100 / 1500: loss 209.676693\n",
      "iteration 200 / 1500: loss 140.568523\n",
      "iteration 300 / 1500: loss 94.698396\n",
      "iteration 400 / 1500: loss 64.003762\n",
      "iteration 500 / 1500: loss 43.350888\n",
      "iteration 600 / 1500: loss 29.711105\n",
      "iteration 700 / 1500: loss 20.516326\n",
      "iteration 800 / 1500: loss 14.375426\n",
      "iteration 900 / 1500: loss 10.268577\n",
      "iteration 1000 / 1500: loss 7.601427\n",
      "iteration 1100 / 1500: loss 5.666555\n",
      "iteration 1200 / 1500: loss 4.525594\n",
      "iteration 1300 / 1500: loss 3.620765\n",
      "iteration 1400 / 1500: loss 3.133298\n",
      "training accuracy: 0.356286\n",
      "validation accuracy: 0.364000\n",
      "Training with Learning_rate: 1e-07 and Regularization Strength: 25000.0\n",
      "iteration 0 / 1500: loss 777.873554\n",
      "iteration 100 / 1500: loss 285.543243\n",
      "iteration 200 / 1500: loss 105.804442\n",
      "iteration 300 / 1500: loss 40.065874\n",
      "iteration 400 / 1500: loss 15.963846\n",
      "iteration 500 / 1500: loss 7.129781\n",
      "iteration 600 / 1500: loss 3.940188\n",
      "iteration 700 / 1500: loss 2.802423\n",
      "iteration 800 / 1500: loss 2.326034\n",
      "iteration 900 / 1500: loss 2.143555\n",
      "iteration 1000 / 1500: loss 2.068177\n",
      "iteration 1100 / 1500: loss 2.152502\n",
      "iteration 1200 / 1500: loss 2.150789\n",
      "iteration 1300 / 1500: loss 2.076984\n",
      "iteration 1400 / 1500: loss 2.090278\n",
      "training accuracy: 0.325490\n",
      "validation accuracy: 0.342000\n",
      "Training with Learning_rate: 1e-07 and Regularization Strength: 50000.0\n",
      "iteration 0 / 1500: loss 1550.640973\n",
      "iteration 100 / 1500: loss 208.754567\n",
      "iteration 200 / 1500: loss 29.696261\n",
      "iteration 300 / 1500: loss 5.878707\n",
      "iteration 400 / 1500: loss 2.594181\n",
      "iteration 500 / 1500: loss 2.198127\n",
      "iteration 600 / 1500: loss 2.138954\n",
      "iteration 700 / 1500: loss 2.122716\n",
      "iteration 800 / 1500: loss 2.122395\n",
      "iteration 900 / 1500: loss 2.145288\n",
      "iteration 1000 / 1500: loss 2.141356\n",
      "iteration 1100 / 1500: loss 2.172330\n",
      "iteration 1200 / 1500: loss 2.115431\n",
      "iteration 1300 / 1500: loss 2.115073\n",
      "iteration 1400 / 1500: loss 2.187433\n",
      "training accuracy: 0.305837\n",
      "validation accuracy: 0.315000\n",
      "Training with Learning_rate: 3e-07 and Regularization Strength: 10000.0\n",
      "iteration 0 / 1500: loss 307.192928\n",
      "iteration 100 / 1500: loss 92.618358\n",
      "iteration 200 / 1500: loss 28.960391\n",
      "iteration 300 / 1500: loss 10.099769\n",
      "iteration 400 / 1500: loss 4.401880\n",
      "iteration 500 / 1500: loss 2.743541\n",
      "iteration 600 / 1500: loss 2.215597\n",
      "iteration 700 / 1500: loss 2.042209\n",
      "iteration 800 / 1500: loss 2.091029\n",
      "iteration 900 / 1500: loss 2.018627\n",
      "iteration 1000 / 1500: loss 2.077069\n",
      "iteration 1100 / 1500: loss 2.031916\n",
      "iteration 1200 / 1500: loss 2.022233\n",
      "iteration 1300 / 1500: loss 2.045043\n",
      "iteration 1400 / 1500: loss 1.952875\n",
      "training accuracy: 0.355041\n",
      "validation accuracy: 0.376000\n",
      "Training with Learning_rate: 3e-07 and Regularization Strength: 25000.0\n",
      "iteration 0 / 1500: loss 770.705286\n",
      "iteration 100 / 1500: loss 39.117844\n",
      "iteration 200 / 1500: loss 3.843895\n",
      "iteration 300 / 1500: loss 2.175397\n",
      "iteration 400 / 1500: loss 2.151713\n",
      "iteration 500 / 1500: loss 2.049179\n",
      "iteration 600 / 1500: loss 2.097441\n",
      "iteration 700 / 1500: loss 2.139738\n",
      "iteration 800 / 1500: loss 2.146740\n",
      "iteration 900 / 1500: loss 2.095511\n",
      "iteration 1000 / 1500: loss 2.066161\n",
      "iteration 1100 / 1500: loss 2.121944\n",
      "iteration 1200 / 1500: loss 2.036623\n",
      "iteration 1300 / 1500: loss 2.066599\n",
      "iteration 1400 / 1500: loss 2.074957\n",
      "training accuracy: 0.327204\n",
      "validation accuracy: 0.347000\n",
      "Training with Learning_rate: 3e-07 and Regularization Strength: 50000.0\n",
      "iteration 0 / 1500: loss 1544.300443\n",
      "iteration 100 / 1500: loss 5.661233\n",
      "iteration 200 / 1500: loss 2.146609\n",
      "iteration 300 / 1500: loss 2.165770\n",
      "iteration 400 / 1500: loss 2.142370\n",
      "iteration 500 / 1500: loss 2.138008\n",
      "iteration 600 / 1500: loss 2.113844\n",
      "iteration 700 / 1500: loss 2.191786\n",
      "iteration 800 / 1500: loss 2.131758\n",
      "iteration 900 / 1500: loss 2.144175\n",
      "iteration 1000 / 1500: loss 2.148756\n",
      "iteration 1100 / 1500: loss 2.153159\n",
      "iteration 1200 / 1500: loss 2.165720\n",
      "iteration 1300 / 1500: loss 2.161245\n",
      "iteration 1400 / 1500: loss 2.150201\n",
      "training accuracy: 0.294163\n",
      "validation accuracy: 0.304000\n",
      "Training with Learning_rate: 5e-07 and Regularization Strength: 10000.0\n",
      "iteration 0 / 1500: loss 313.321013\n",
      "iteration 100 / 1500: loss 42.685464\n",
      "iteration 200 / 1500: loss 7.436242\n",
      "iteration 300 / 1500: loss 2.682270\n",
      "iteration 400 / 1500: loss 2.035491\n",
      "iteration 500 / 1500: loss 2.025444\n",
      "iteration 600 / 1500: loss 2.093677\n",
      "iteration 700 / 1500: loss 1.930057\n",
      "iteration 800 / 1500: loss 2.073045\n",
      "iteration 900 / 1500: loss 1.981912\n",
      "iteration 1000 / 1500: loss 1.987567\n",
      "iteration 1100 / 1500: loss 2.005961\n",
      "iteration 1200 / 1500: loss 2.020623\n",
      "iteration 1300 / 1500: loss 2.014277\n",
      "iteration 1400 / 1500: loss 2.071619\n",
      "training accuracy: 0.354041\n",
      "validation accuracy: 0.355000\n",
      "Training with Learning_rate: 5e-07 and Regularization Strength: 25000.0\n",
      "iteration 0 / 1500: loss 777.343259\n",
      "iteration 100 / 1500: loss 6.899850\n",
      "iteration 200 / 1500: loss 2.129721\n",
      "iteration 300 / 1500: loss 2.093244\n",
      "iteration 400 / 1500: loss 2.081387\n",
      "iteration 500 / 1500: loss 2.104189\n",
      "iteration 600 / 1500: loss 2.143736\n",
      "iteration 700 / 1500: loss 2.154252\n",
      "iteration 800 / 1500: loss 2.072882\n",
      "iteration 900 / 1500: loss 2.098093\n",
      "iteration 1000 / 1500: loss 2.101703\n",
      "iteration 1100 / 1500: loss 2.083168\n",
      "iteration 1200 / 1500: loss 2.050609\n",
      "iteration 1300 / 1500: loss 2.103434\n",
      "iteration 1400 / 1500: loss 2.092730\n",
      "training accuracy: 0.321245\n",
      "validation accuracy: 0.341000\n",
      "Training with Learning_rate: 5e-07 and Regularization Strength: 50000.0\n",
      "iteration 0 / 1500: loss 1531.656674\n",
      "iteration 100 / 1500: loss 2.256307\n",
      "iteration 200 / 1500: loss 2.169767\n",
      "iteration 300 / 1500: loss 2.107894\n",
      "iteration 400 / 1500: loss 2.107432\n",
      "iteration 500 / 1500: loss 2.186390\n",
      "iteration 600 / 1500: loss 2.176027\n",
      "iteration 700 / 1500: loss 2.117440\n",
      "iteration 800 / 1500: loss 2.193239\n",
      "iteration 900 / 1500: loss 2.136297\n",
      "iteration 1000 / 1500: loss 2.153697\n",
      "iteration 1100 / 1500: loss 2.167239\n",
      "iteration 1200 / 1500: loss 2.095631\n",
      "iteration 1300 / 1500: loss 2.154321\n",
      "iteration 1400 / 1500: loss 2.154995\n",
      "training accuracy: 0.303102\n",
      "validation accuracy: 0.308000\n",
      "lr 9.500000e-08 reg 1.000000e+04 train accuracy: 0.351041 val accuracy: 0.362000\n",
      "lr 9.500000e-08 reg 2.500000e+04 train accuracy: 0.326020 val accuracy: 0.341000\n",
      "lr 9.500000e-08 reg 5.000000e+04 train accuracy: 0.305449 val accuracy: 0.330000\n",
      "lr 1.000000e-07 reg 1.000000e+04 train accuracy: 0.356286 val accuracy: 0.364000\n",
      "lr 1.000000e-07 reg 2.500000e+04 train accuracy: 0.325490 val accuracy: 0.342000\n",
      "lr 1.000000e-07 reg 5.000000e+04 train accuracy: 0.305837 val accuracy: 0.315000\n",
      "lr 3.000000e-07 reg 1.000000e+04 train accuracy: 0.355041 val accuracy: 0.376000\n",
      "lr 3.000000e-07 reg 2.500000e+04 train accuracy: 0.327204 val accuracy: 0.347000\n",
      "lr 3.000000e-07 reg 5.000000e+04 train accuracy: 0.294163 val accuracy: 0.304000\n",
      "lr 5.000000e-07 reg 1.000000e+04 train accuracy: 0.354041 val accuracy: 0.355000\n",
      "lr 5.000000e-07 reg 2.500000e+04 train accuracy: 0.321245 val accuracy: 0.341000\n",
      "lr 5.000000e-07 reg 5.000000e+04 train accuracy: 0.303102 val accuracy: 0.308000\n",
      "best validation accuracy achieved during cross-validation: 0.376000\n"
     ]
    }
   ],
   "source": [
    "# Use the validation set to tune hyperparameters (regularization strength and\n",
    "# learning rate). You should experiment with different ranges for the learning\n",
    "# rates and regularization strengths; if you are careful you should be able to\n",
    "# get a classification accuracy of over 0.35 on the validation set.\n",
    "from cs682.classifiers import Softmax\n",
    "results = {}\n",
    "best_val = -1\n",
    "best_softmax = None\n",
    "learning_rates = [0.95e-7,1e-7, 3e-7, 5e-7]\n",
    "regularization_strengths = [1e4, 2.5e4, 5e4]\n",
    "\n",
    "################################################################################\n",
    "# TODO:                                                                        #\n",
    "# Use the validation set to set the learning rate and regularization strength. #\n",
    "# This should be identical to the validation that you did for the SVM; save    #\n",
    "# the best trained softmax classifer in best_softmax.                          #\n",
    "################################################################################\n",
    "# Your code\n",
    "\n",
    "for i in learning_rates:\n",
    "  for j in regularization_strengths:\n",
    "    print(f\"Training with Learning_rate: {i} and Regularization Strength: {j}\")\n",
    "    model = Softmax()\n",
    "    loss_history = model.train(X_train, y_train, learning_rate = i, reg = j, num_iters=1500, verbose = True)\n",
    "    y_train_pred = model.predict(X_train)\n",
    "    print('training accuracy: %f' % (np.mean(y_train == y_train_pred), ))\n",
    "    train_acc = np.mean(y_train == y_train_pred)\n",
    "    y_val_pred = model.predict(X_val)\n",
    "    print('validation accuracy: %f' % (np.mean(y_val == y_val_pred), ))\n",
    "    val_acc = np.mean(y_val == y_val_pred)\n",
    "    results[(i, j)] = train_acc, val_acc\n",
    "    if(best_val<val_acc) :\n",
    "      best_val = val_acc\n",
    "      best_softmax = model\n",
    "\n",
    "################################################################################\n",
    "#                              END OF YOUR CODE                                #\n",
    "################################################################################\n",
    "\n",
    "# Print out results.\n",
    "for lr, reg in sorted(results):\n",
    "    train_accuracy, val_accuracy = results[(lr, reg)]\n",
    "    print('lr %e reg %e train accuracy: %f val accuracy: %f' % (\n",
    "                lr, reg, train_accuracy, val_accuracy))\n",
    "\n",
    "print('best validation accuracy achieved during cross-validation: %f' % best_val)"
   ]
  },
  {
   "cell_type": "code",
   "execution_count": null,
   "metadata": {
    "colab": {
     "base_uri": "https://localhost:8080/"
    },
    "executionInfo": {
     "elapsed": 8,
     "status": "ok",
     "timestamp": 1695940737898,
     "user": {
      "displayName": "Satya Shodhaka Rekha Prabhanjan",
      "userId": "06460381023426787220"
     },
     "user_tz": 240
    },
    "id": "7hnvJpXB_G_p",
    "outputId": "43cc7cc2-2c17-46e4-8f11-47849e18fc48"
   },
   "outputs": [
    {
     "name": "stdout",
     "output_type": "stream",
     "text": [
      "softmax on raw pixels final test set accuracy: 0.375000\n"
     ]
    }
   ],
   "source": [
    "# evaluate on test set\n",
    "# Evaluate the best softmax on test set\n",
    "y_test_pred = best_softmax.predict(X_test)\n",
    "test_accuracy = np.mean(y_test == y_test_pred)\n",
    "print('softmax on raw pixels final test set accuracy: %f' % (test_accuracy, ))"
   ]
  },
  {
   "cell_type": "markdown",
   "metadata": {
    "id": "NrR13-3T_G_q"
   },
   "source": [
    "**Inline Question** - *True or False*\n",
    "\n",
    "It's possible to add a new datapoint to a training set that would leave the SVM loss unchanged, but this is not the case with the Softmax classifier loss.\n",
    "\n",
    "*Your answer*: True\n",
    "\n",
    "*Your explanation*: Adding any new data point may potentially change the loss because the Softmax loss considers the scores for all classes and assigns probabilities. So, adding a new data point can influence the probabilities and also the loss."
   ]
  },
  {
   "cell_type": "code",
   "execution_count": null,
   "metadata": {
    "colab": {
     "base_uri": "https://localhost:8080/",
     "height": 528
    },
    "executionInfo": {
     "elapsed": 457,
     "status": "ok",
     "timestamp": 1695940738352,
     "user": {
      "displayName": "Satya Shodhaka Rekha Prabhanjan",
      "userId": "06460381023426787220"
     },
     "user_tz": 240
    },
    "id": "NgX0TbHx_G_q",
    "outputId": "59c33d4a-c2df-4c6f-e8a8-3dc43f00a675"
   },
   "outputs": [
    {
     "data": {
      "image/png": "[encoded data removed]",
      "text/plain": [
       "<Figure size 1000x800 with 10 Axes>"
      ]
     },
     "metadata": {},
     "output_type": "display_data"
    }
   ],
   "source": [
    "# Visualize the learned weights for each class\n",
    "w = best_softmax.W[:-1,:] # strip out the bias\n",
    "w = w.reshape(32, 32, 3, 10)\n",
    "\n",
    "w_min, w_max = np.min(w), np.max(w)\n",
    "\n",
    "classes = ['plane', 'car', 'bird', 'cat', 'deer', 'dog', 'frog', 'horse', 'ship', 'truck']\n",
    "for i in range(10):\n",
    "    plt.subplot(2, 5, i + 1)\n",
    "\n",
    "    # Rescale the weights to be between 0 and 255\n",
    "    wimg = 255.0 * (w[:, :, :, i].squeeze() - w_min) / (w_max - w_min)\n",
    "    plt.imshow(wimg.astype('uint8'))\n",
    "    plt.axis('off')\n",
    "    plt.title(classes[i])"
   ]
  }
 ],
 "metadata": {
  "colab": {
   "provenance": []
  },
  "kernelspec": {
   "display_name": "Python 3 (ipykernel)",
   "language": "python",
   "name": "python3"
  },
  "language_info": {
   "codemirror_mode": {
    "name": "ipython",
    "version": 3
   },
   "file_extension": ".py",
   "mimetype": "text/x-python",
   "name": "python",
   "nbconvert_exporter": "python",
   "pygments_lexer": "ipython3",
   "version": "3.11.4"
  }
 },
 "nbformat": 4,
 "nbformat_minor": 4
}
